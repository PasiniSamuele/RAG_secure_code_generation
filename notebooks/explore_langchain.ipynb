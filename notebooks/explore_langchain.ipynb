{
 "cells": [
  {
   "cell_type": "code",
   "execution_count": 71,
   "metadata": {},
   "outputs": [],
   "source": [
    "from langchain.chat_models import ChatOpenAI\n",
    "from langchain import HuggingFaceHub\n",
    "from langchain.prompts import (\n",
    "    ChatPromptTemplate,\n",
    ")\n",
    "from langchain_core.output_parsers import StrOutputParser"
   ]
  },
  {
   "cell_type": "code",
   "execution_count": 72,
   "metadata": {},
   "outputs": [],
   "source": [
    "from dotenv import dotenv_values\n",
    "dotenv_values = dotenv_values()\n",
    "hf_key = dotenv_values['HUGGINGFACEHUB_API_TOKEN']\n",
    "openai_key = dotenv_values['OPENAI_API_KEY']"
   ]
  },
  {
   "cell_type": "code",
   "execution_count": 73,
   "metadata": {},
   "outputs": [
    {
     "data": {
      "text/plain": [
       "'gpt-3.5-turbo'"
      ]
     },
     "execution_count": 73,
     "metadata": {},
     "output_type": "execute_result"
    }
   ],
   "source": [
    "model = ChatOpenAI(temperature=1, openai_api_key=openai_key)\n",
    "model.model_name\n"
   ]
  },
  {
   "cell_type": "code",
   "execution_count": null,
   "metadata": {},
   "outputs": [],
   "source": []
  },
  {
   "cell_type": "code",
   "execution_count": 74,
   "metadata": {},
   "outputs": [],
   "source": [
    "template = \"\"\"The user will provide the initial part of the function (function name, parameters with types, return type and a comment describing the purpose of the function, with some optional example.\n",
    "You are a coding assistent that writes some python code to complete the user's function. Be sure that the code is syntactically correct and that it returns the correct type. The lenght of the code should be less than {max_lines} lines.\n",
    "\n",
    "Return only python code in Markdown format, e.g.:\n",
    "\n",
    "```python\n",
    "....\n",
    "```\"\"\""
   ]
  },
  {
   "cell_type": "code",
   "execution_count": 75,
   "metadata": {},
   "outputs": [],
   "source": [
    "prompt = ChatPromptTemplate.from_messages([(\"system\", template), (\"human\", \"{input}\")])\n"
   ]
  },
  {
   "cell_type": "code",
   "execution_count": 76,
   "metadata": {},
   "outputs": [],
   "source": [
    "def _sanitize_output(text: str):\n",
    "    _, after = text.split(\"```python\")\n",
    "    return after.split(\"```\")[0]"
   ]
  },
  {
   "cell_type": "code",
   "execution_count": 77,
   "metadata": {},
   "outputs": [],
   "source": [
    "chain = prompt | model | StrOutputParser() | _sanitize_output"
   ]
  },
  {
   "cell_type": "code",
   "execution_count": 78,
   "metadata": {},
   "outputs": [],
   "source": [
    "input = '''def detect_xss(http_get_request: str)->bool: \n",
    "\"\"\" Check if in the given http_get_request there is an XSS exploit, considering also the possible evansions that an attacker can perform.\"\"\" \n",
    "'''"
   ]
  },
  {
   "cell_type": "code",
   "execution_count": 79,
   "metadata": {},
   "outputs": [
    {
     "data": {
      "text/plain": [
       "ChatPromptTemplate(input_variables=['input', 'max_lines'], messages=[SystemMessagePromptTemplate(prompt=PromptTemplate(input_variables=['max_lines'], template=\"The user will provide the initial part of the function (function name, parameters with types, return type and a comment describing the purpose of the function, with some optional example.\\nYou are a coding assistent that writes some python code to complete the user's function. Be sure that the code is syntactically correct and that it returns the correct type. The lenght of the code should be less than {max_lines} lines.\\n\\nReturn only python code in Markdown format, e.g.:\\n\\n```python\\n....\\n```\")), HumanMessagePromptTemplate(prompt=PromptTemplate(input_variables=['input'], template='{input}'))])"
      ]
     },
     "execution_count": 79,
     "metadata": {},
     "output_type": "execute_result"
    }
   ],
   "source": [
    "prompt"
   ]
  },
  {
   "cell_type": "code",
   "execution_count": 80,
   "metadata": {},
   "outputs": [],
   "source": [
    "response = chain.invoke({\"max_lines\":50,\"input\": input})"
   ]
  },
  {
   "cell_type": "code",
   "execution_count": 81,
   "metadata": {},
   "outputs": [
    {
     "name": "stdout",
     "output_type": "stream",
     "text": [
      "\n",
      "import re\n",
      "\n",
      "def detect_xss(http_get_request: str) -> bool: \n",
      "    \"\"\"Check if in the given http_get_request there is an XSS exploit, considering also the possible evasions that an attacker can perform.\"\"\" \n",
      "    # Define the patterns of common XSS attack vectors\n",
      "    patterns = [\n",
      "        r\"<[^>]+>\",\n",
      "        r\"\\\"[^<]+\\\"\",\n",
      "        r\"\\'[^<]+\\'\",\n",
      "        r\"\\([^<]+\\)\",\n",
      "        r\"[^<]+\\([^<]+\\)\",\n",
      "        r\"[^<]+\\(.*\\)\",\n",
      "        r\"javascript:\",\n",
      "        r\"on\\w*=\",\n",
      "        r\"src\\s*=.*\\.(jpg|jpeg|gif|png|bmp|tif)\",\n",
      "    ]\n",
      "\n",
      "    # Check if any pattern matches the http_get_request\n",
      "    for pattern in patterns:\n",
      "        if re.search(pattern, http_get_request, re.IGNORECASE):\n",
      "            return True\n",
      "    \n",
      "    return False\n",
      "\n"
     ]
    }
   ],
   "source": [
    "print(response)"
   ]
  },
  {
   "cell_type": "code",
   "execution_count": null,
   "metadata": {},
   "outputs": [],
   "source": []
  }
 ],
 "metadata": {
  "kernelspec": {
   "display_name": ".venv",
   "language": "python",
   "name": "python3"
  },
  "language_info": {
   "codemirror_mode": {
    "name": "ipython",
    "version": 3
   },
   "file_extension": ".py",
   "mimetype": "text/x-python",
   "name": "python",
   "nbconvert_exporter": "python",
   "pygments_lexer": "ipython3",
   "version": "3.10.12"
  },
  "orig_nbformat": 4
 },
 "nbformat": 4,
 "nbformat_minor": 2
}
