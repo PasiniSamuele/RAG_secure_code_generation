{
 "cells": [
  {
   "cell_type": "code",
   "execution_count": 26,
   "metadata": {},
   "outputs": [],
   "source": [
    "import pandas as pd\n",
    "from langchain.llms.huggingface_pipeline import HuggingFacePipeline\n",
    "from transformers import AutoModelForCausalLM, AutoTokenizer, pipeline\n",
    "from dotenv import dotenv_values\n",
    "import sys\n",
    "sys.path.insert(0,'/workspaces/RAG_secure_code_generation/src')\n",
    "from utils.utils import load_yaml, init_argument_parser, sanitize_output, fill_default_parameters\n",
    "from langchain.prompts import (\n",
    "    ChatPromptTemplate, PromptTemplate\n",
    ")\n",
    "from utils.openai_utils import is_openai_model, build_chat_model\n",
    "from langchain.chat_models import ChatOpenAI\n",
    "from langchain_core.output_parsers import StrOutputParser\n",
    "import random\n",
    "import numpy as np\n",
    "from functools import partial\n",
    "from typing import List\n",
    "from langchain.embeddings import OpenAIEmbeddings\n",
    "\n",
    "\n",
    "from langchain.text_splitter import RecursiveCharacterTextSplitter\n",
    "from langchain.vectorstores import Chroma\n",
    "from langchain.document_loaders.generic import GenericLoader\n",
    "from langchain.document_loaders import WebBaseLoader\n",
    "from utils.custom_grobid_parser import CustomGrobidParser\n",
    "from langchain.docstore.document import Document\n",
    "from langchain_core.embeddings import Embeddings\n",
    "import bs4\n",
    "from langchain_core.runnables import RunnablePassthrough\n",
    "from utils.rag_utils import build_scientific_papers_loader, build_documents_retriever, format_docs, build_web_page_loader\n",
    "from utils.openai_utils import is_openai_model, build_chat_model\n"
   ]
  },
  {
   "cell_type": "code",
   "execution_count": 27,
   "metadata": {},
   "outputs": [],
   "source": [
    "def format_docs(docs):\n",
    "    return \"\\n\\n\".join(doc.page_content for doc in docs)"
   ]
  },
  {
   "cell_type": "code",
   "execution_count": 28,
   "metadata": {},
   "outputs": [],
   "source": [
    "seed = 156\n",
    "np.random.seed(seed)\n",
    "random.seed(seed)"
   ]
  },
  {
   "cell_type": "code",
   "execution_count": 29,
   "metadata": {},
   "outputs": [],
   "source": [
    "template_file = \"../data/templates/complete_function_readable.yaml\"\n",
    "rag_template_file = \"../data/rag_templates/basic_rag_suffix.txt\"\n",
    "task_file = \"../data/tasks/detect_xss_simple_prompt.txt\"\n",
    "parameters_file = \"../data/prompt_parameters/empty.yaml\"\n",
    "papers_folder = \"../data/papers/\"\n",
    "model_name = \"gpt-3.5-turbo-0613\"\n",
    "db_persist_path = \"../data/db/chroma\"\n",
    "db_persist_path_web_test = \"../data/db/chroma_web_test\"\n",
    "db_persist_path_blog = \"../data/db/chroma_web_blog\"\n",
    "db_persist_path_book = \"../data/db/chroma_web_book\""
   ]
  },
  {
   "cell_type": "code",
   "execution_count": 30,
   "metadata": {},
   "outputs": [],
   "source": [
    "env = dotenv_values()"
   ]
  },
  {
   "cell_type": "code",
   "execution_count": 31,
   "metadata": {},
   "outputs": [],
   "source": [
    "template = load_yaml(template_file)\n",
    "    # load parameters\n",
    "prompt_parameters = load_yaml(parameters_file)\n",
    "\n",
    "#read txt containing the task\n",
    "with open(task_file) as f:\n",
    "    prompt_parameters[\"input\"] = f.read()\n",
    "prompt_parameters = fill_default_parameters(prompt_parameters, template[\"default_parameters\"])\n",
    "with open(rag_template_file) as f:\n",
    "    template['input'] += \"\\n\" + f.read()\n",
    "\n",
    "use_openai_api = is_openai_model(model_name)\n",
    "openai_key = env['OPENAI_API_KEY']\n",
    "model = ChatOpenAI(temperature=0, openai_api_key=openai_key, model=model_name)\n",
    "embeddings = OpenAIEmbeddings(api_key = openai_key)\n"
   ]
  },
  {
   "cell_type": "code",
   "execution_count": 32,
   "metadata": {},
   "outputs": [],
   "source": [
    "#docs =  build_scientific_papers_loader(papers_folder)\n",
    "#retriever = build_documents_retriever(docs, db_persist_path=db_persist_path_web_test)\n"
   ]
  },
  {
   "cell_type": "code",
   "execution_count": 33,
   "metadata": {},
   "outputs": [],
   "source": [
    "url = \"https://n3t-hunt3r.gitbook.io/pentest-book/\"\n",
    "docs =  build_web_page_loader(url)\n",
    "\n",
    "retriever = build_documents_retriever(docs, db_persist_path=db_persist_path_book, embeddings=embeddings, chunk_size=5000, chunk_overlap = 500)\n"
   ]
  },
  {
   "cell_type": "code",
   "execution_count": 42,
   "metadata": {},
   "outputs": [
    {
     "data": {
      "text/plain": [
       "1"
      ]
     },
     "execution_count": 42,
     "metadata": {},
     "output_type": "execute_result"
    }
   ],
   "source": [
    "len(docs)"
   ]
  },
  {
   "cell_type": "code",
   "execution_count": 43,
   "metadata": {},
   "outputs": [],
   "source": [
    "#url_filter_cheat_sheet = \"https://cheatsheetseries.owasp.org/cheatsheets/XSS_Filter_Evasion_Cheat_Sheet.html\"\n",
    "url_testing = \"https://owasp.org/www-project-web-security-testing-guide/latest/4-Web_Application_Security_Testing/07-Input_Validation_Testing/01-Testing_for_Reflected_Cross_Site_Scripting\""
   ]
  },
  {
   "cell_type": "code",
   "execution_count": 44,
   "metadata": {},
   "outputs": [],
   "source": [
    "#docs_online = build_web_page_loader(url_testing)\n",
    "##retriever_web = build_documents_retriever(docs_online, db_persist_path=db_persist_path_web_test)\n"
   ]
  },
  {
   "cell_type": "code",
   "execution_count": 45,
   "metadata": {},
   "outputs": [],
   "source": [
    "prompt = ChatPromptTemplate.from_messages([(\"system\", template['input']), (\"human\", \"{input}\")])\n"
   ]
  },
  {
   "cell_type": "code",
   "execution_count": 46,
   "metadata": {},
   "outputs": [
    {
     "data": {
      "text/plain": [
       "'def detect_xss(http_get_request: str)->bool: \\n\"\"\" Check if in the given http_get_request there is an XSS exploit, considering also the possible evasions that an attacker can perform.\"\"\" '"
      ]
     },
     "execution_count": 46,
     "metadata": {},
     "output_type": "execute_result"
    }
   ],
   "source": [
    "prompt_parameters[\"input\"]"
   ]
  },
  {
   "cell_type": "code",
   "execution_count": 47,
   "metadata": {},
   "outputs": [],
   "source": [
    "prompt_with_examples = '''\n",
    "def detect_xss(http_get_request: str)->bool: \n",
    "\"\"\" Check if in the given http_get_request there is an XSS exploit, considering also the possible evasions that an attacker can perform.\"\"\" \n",
    "\n",
    "'''"
   ]
  },
  {
   "cell_type": "code",
   "execution_count": 57,
   "metadata": {},
   "outputs": [],
   "source": [
    "comment = \"what are the escapes that a malicious attack can perform to bypass XSS detection.\"\n",
    "ex = \"unescape(/%78%u0073%73/.source)\"\n",
    "example = \"http://www.concours.agriculture.gouv.fr/calendrier/sommaire.cfm?cal_cdn=%22%3e'%3e%3cscript%20src=ht<br>tp://vuln.xssed.net/thirdparty/scripts/python5.js%3e%3c/script%3e\"\n",
    "rets = retriever.get_relevant_documents(comment, k=22)"
   ]
  },
  {
   "cell_type": "code",
   "execution_count": 58,
   "metadata": {},
   "outputs": [
    {
     "data": {
      "text/plain": [
       "[Document(page_content='Header InjectionUnicode Normalization vulnerabilityRegistration VulnerabilitiesRace ConditionPowered By GitBookXSS Filter Evasion and WAF Bypassing TacticsWe will analyze various levels of evasion and bypassing tactics for XSS payloads.IntroductionCross-Site Scripting (XSS) attacks are a type of injection in which malicious scripts are injected into otherwise trustworthy websites. The flaws that allow these attacks to succeed are common and can be found whenever a web application accepts user input in its output without verifying or encoding it.Many security researchers have created guides and cheat sheets to aid security professionals in the testing of Cross-Site Scripting problems over the years. The most well-known is \"XSS Filter Evasion Cheat Sheet,\" which was produced by RSnake and then donated to OWASP. Cure53\\'s HTML5 Security Cheatsheet is another intriguing initiative.In this book, we will not analyze the vectors reported in the cheat sheet one by one, but rather identify', metadata={'description': 'We will analyze various levels of evasion and bypassing tactics for XSS payloads.', 'language': 'en', 'source': 'https://n3t-hunt3r.gitbook.io/pentest-book/', 'title': 'XSS Filter Evasion and WAF Bypassing Tactics - Pentest Book by n3t_hunt3r'}),\n",
       " Document(page_content=\"marks because they're already escaped. Remember that each of them will return a string, therefore you'll need an execution sink to get the function to run (IE: eval).How to Prevent Cross-Site Scripting in Your ApplicationsFiltering alone is clearly not the solution, with hundreds of ways to evade filters and new vectors sprouting all the time. Filters do not prevent XSS attacks; rather, they eliminate a small fraction of code patterns that could be used in an attack. In fact, instead of blocking malicious code, filtering solves the wrong problem by attempting to prevent any calls that load bad code itself. Developers may have significantly more influence on application and user security than any filters by developing secure code that is not vulnerable to XSS attacks. This can be accomplished at the application level by using context-sensitive escaping and encoding appropriately. The usage of appropriate HTTP security headers on the HTTP protocol level is the major weapon against\", metadata={'description': 'We will analyze various levels of evasion and bypassing tactics for XSS payloads.', 'language': 'en', 'source': 'https://n3t-hunt3r.gitbook.io/pentest-book/', 'title': 'XSS Filter Evasion and WAF Bypassing Tactics - Pentest Book by n3t_hunt3r'}),\n",
       " Document(page_content='then donated to OWASP. Cure53\\'s HTML5 Security Cheatsheet is another intriguing initiative.In this book, we will not analyze the vectors reported in the cheat sheet one by one, but rather identify which of them are possible scenarios we may encounter and how to overcome them.The most common scenarios you will come across are:1.The XSS vector is blocked by the application or something else.2.The XSS vector is sanitized.3.The XSS vector is filtered or blocked by the browser.We\\'ll look at several evasion tactics to get around the weakest regulations and get effective XSS bypass vectors.Bypassing Blacklisting FiltersFilters in blacklist mode are the most commonly used due to their ease of installation. Its mission is to identify specific patterns and prevent malicious behavior. It all comes down to \"patterns,\" and the more accurate they are, the more frequently they will prevent attacks.Script Code InjectionThe tag is the primary method for executing client-side scripting code such as', metadata={'description': 'We will analyze various levels of evasion and bypassing tactics for XSS payloads.', 'language': 'en', 'source': 'https://n3t-hunt3r.gitbook.io/pentest-book/', 'title': 'XSS Filter Evasion and WAF Bypassing Tactics - Pentest Book by n3t_hunt3r'}),\n",
       " Document(page_content='XSS Filter Evasion and WAF Bypassing Tactics - Pentest Book by n3t_hunt3r', metadata={'description': 'We will analyze various levels of evasion and bypassing tactics for XSS payloads.', 'language': 'en', 'source': 'https://n3t-hunt3r.gitbook.io/pentest-book/', 'title': 'XSS Filter Evasion and WAF Bypassing Tactics - Pentest Book by n3t_hunt3r'})]"
      ]
     },
     "execution_count": 58,
     "metadata": {},
     "output_type": "execute_result"
    }
   ],
   "source": [
    "rets"
   ]
  },
  {
   "cell_type": "code",
   "execution_count": 20,
   "metadata": {},
   "outputs": [],
   "source": [
    "chain =  prompt | model | StrOutputParser() | sanitize_output\n"
   ]
  },
  {
   "cell_type": "code",
   "execution_count": 21,
   "metadata": {},
   "outputs": [],
   "source": [
    "prompt_parameters[\"context\"] = retriever | format_docs"
   ]
  },
  {
   "cell_type": "code",
   "execution_count": 22,
   "metadata": {},
   "outputs": [
    {
     "data": {
      "text/plain": [
       "{'input': 'def detect_xss(http_get_request: str)->bool: \\n\"\"\" Check if in the given http_get_request there is an XSS exploit, considering also the possible evasions that an attacker can perform.\"\"\" ',\n",
       " 'context': VectorStoreRetriever(tags=['Chroma', 'OpenAIEmbeddings'], vectorstore=<langchain.vectorstores.chroma.Chroma object at 0x7f9a909cae90>)\n",
       " | RunnableLambda(...)}"
      ]
     },
     "execution_count": 22,
     "metadata": {},
     "output_type": "execute_result"
    }
   ],
   "source": [
    "prompt_parameters"
   ]
  },
  {
   "cell_type": "code",
   "execution_count": 23,
   "metadata": {},
   "outputs": [
    {
     "name": "stdout",
     "output_type": "stream",
     "text": [
      "System: The user will provide the initial part of a python function (function name, parameters with types, return type and a comment describing the purpose of the function) with some optional example. \n",
      "You are a coding assistant that writes some python code to complete the user's function. Be sure that the code is syntactically correct and that it returns the correct type. \n",
      "The length of the code should be short, it should be readable, and without redundant checks on the payload. \n",
      "Return only python code in Markdown format, e.g.:\n",
      "```python\n",
      "....\n",
      "```\n",
      "Use the following pieces of retrieved context to write a more complete function:\n",
      "Context: first=VectorStoreRetriever(tags=['Chroma', 'OpenAIEmbeddings'], vectorstore=<langchain.vectorstores.chroma.Chroma object at 0x7f9a909cae90>) last=RunnableLambda(...)\n",
      "\n",
      "Human: def detect_xss(http_get_request: str)->bool: \n",
      "\"\"\" Check if in the given http_get_request there is an XSS exploit, considering also the possible evasions that an attacker can perform.\"\"\" \n"
     ]
    }
   ],
   "source": [
    "print(prompt.format(**prompt_parameters))\n"
   ]
  },
  {
   "cell_type": "code",
   "execution_count": 24,
   "metadata": {},
   "outputs": [],
   "source": [
    "response = chain.invoke(prompt_parameters)\n"
   ]
  },
  {
   "cell_type": "code",
   "execution_count": 25,
   "metadata": {},
   "outputs": [
    {
     "data": {
      "text/plain": [
       "'\\nimport re\\n\\ndef detect_xss(http_get_request: str) -> bool:\\n    # Check for common XSS patterns\\n    patterns = [\\n        r\"<script.*?>.*?</script>\",\\n        r\"javascript:\",\\n        r\"on\\\\w+\",\\n        r\"alert\\\\(\",\\n        r\"eval\\\\(\",\\n        r\"document\\\\.\"\\n    ]\\n    \\n    for pattern in patterns:\\n        if re.search(pattern, http_get_request, re.IGNORECASE):\\n            return True\\n    \\n    return False\\n'"
      ]
     },
     "execution_count": 25,
     "metadata": {},
     "output_type": "execute_result"
    }
   ],
   "source": [
    "response"
   ]
  },
  {
   "cell_type": "code",
   "execution_count": null,
   "metadata": {},
   "outputs": [],
   "source": []
  }
 ],
 "metadata": {
  "kernelspec": {
   "display_name": ".venv",
   "language": "python",
   "name": "python3"
  },
  "language_info": {
   "codemirror_mode": {
    "name": "ipython",
    "version": 3
   },
   "file_extension": ".py",
   "mimetype": "text/x-python",
   "name": "python",
   "nbconvert_exporter": "python",
   "pygments_lexer": "ipython3",
   "version": "3.10.12"
  },
  "orig_nbformat": 4
 },
 "nbformat": 4,
 "nbformat_minor": 2
}
