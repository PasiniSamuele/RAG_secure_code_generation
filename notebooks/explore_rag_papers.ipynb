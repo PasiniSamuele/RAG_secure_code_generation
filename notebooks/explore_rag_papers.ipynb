{
 "cells": [
  {
   "cell_type": "code",
   "execution_count": 24,
   "metadata": {},
   "outputs": [],
   "source": [
    "import pandas as pd\n",
    "from langchain.llms.huggingface_pipeline import HuggingFacePipeline\n",
    "from transformers import AutoModelForCausalLM, AutoTokenizer, pipeline\n",
    "from dotenv import dotenv_values\n",
    "import sys\n",
    "sys.path.insert(0,'/workspaces/RAG_secure_code_generation/src')\n",
    "from utils.utils import load_yaml, init_argument_parser, sanitize_output, fill_default_parameters\n",
    "from langchain.prompts import (\n",
    "    ChatPromptTemplate, PromptTemplate\n",
    ")\n",
    "from utils.openai_utils import is_openai_model, build_chat_model\n",
    "from langchain.chat_models import ChatOpenAI\n",
    "from langchain_core.output_parsers import StrOutputParser\n",
    "import random\n",
    "import numpy as np\n",
    "from functools import partial\n",
    "from typing import List\n",
    "from langchain.embeddings import OpenAIEmbeddings\n",
    "\n",
    "\n",
    "from langchain.text_splitter import RecursiveCharacterTextSplitter\n",
    "from langchain.vectorstores import Chroma\n",
    "from langchain.document_loaders.generic import GenericLoader\n",
    "from langchain.document_loaders import WebBaseLoader\n",
    "from utils.custom_grobid_parser import CustomGrobidParser\n",
    "from langchain.docstore.document import Document\n",
    "from langchain_core.embeddings import Embeddings\n",
    "import bs4\n",
    "from langchain_core.runnables import RunnablePassthrough"
   ]
  },
  {
   "cell_type": "code",
   "execution_count": 25,
   "metadata": {},
   "outputs": [],
   "source": [
    "def format_docs(docs):\n",
    "    return \"\\n\\n\".join(doc.page_content for doc in docs)"
   ]
  },
  {
   "cell_type": "code",
   "execution_count": 26,
   "metadata": {},
   "outputs": [],
   "source": [
    "seed = 156\n",
    "np.random.seed(seed)\n",
    "random.seed(seed)"
   ]
  },
  {
   "cell_type": "code",
   "execution_count": 27,
   "metadata": {},
   "outputs": [],
   "source": [
    "template_file = \"../data/templates/complete_function_readable.yaml\"\n",
    "rag_template_file = \"../data/rag_templates/basic_rag_suffix.txt\"\n",
    "task_file = \"../data/tasks/detect_xss_simple_prompt.txt\"\n",
    "parameters_file = \"../data/prompt_parameters/empty.yaml\"\n",
    "papers_folder = \"../data/papers/\"\n",
    "model_name = \"gpt-3.5-turbo-0613\"\n"
   ]
  },
  {
   "cell_type": "code",
   "execution_count": 28,
   "metadata": {},
   "outputs": [],
   "source": [
    "env = dotenv_values()"
   ]
  },
  {
   "cell_type": "code",
   "execution_count": 29,
   "metadata": {},
   "outputs": [],
   "source": [
    "template = load_yaml(template_file)\n",
    "    # load parameters\n",
    "prompt_parameters = load_yaml(parameters_file)\n",
    "\n",
    "#read txt containing the task\n",
    "with open(task_file) as f:\n",
    "    prompt_parameters[\"input\"] = f.read()\n",
    "prompt_parameters = fill_default_parameters(prompt_parameters, template[\"default_parameters\"])\n",
    "with open(rag_template_file) as f:\n",
    "    template['input'] += \"\\n\" + f.read()\n",
    "\n",
    "use_openai_api = is_openai_model(model_name)\n",
    "openai_key = env['OPENAI_API_KEY']\n",
    "model = ChatOpenAI(temperature=0, openai_api_key=openai_key, model=model_name)"
   ]
  },
  {
   "cell_type": "code",
   "execution_count": 30,
   "metadata": {},
   "outputs": [],
   "source": [
    "def build_scientific_papers_loader(papers_folder:str)->List[Document]: \n",
    "    loader = GenericLoader.from_filesystem(\n",
    "        papers_folder,\n",
    "        glob=\"*\",\n",
    "        suffixes=[\".pdf\"],\n",
    "        parser=CustomGrobidParser(segment_sentences=False),\n",
    "    )\n",
    "    docs = loader.load()\n",
    "    return docs"
   ]
  },
  {
   "cell_type": "code",
   "execution_count": 31,
   "metadata": {},
   "outputs": [],
   "source": [
    "url_filter_cheat_sheet = \"https://cheatsheetseries.owasp.org/cheatsheets/XSS_Filter_Evasion_Cheat_Sheet.html\""
   ]
  },
  {
   "cell_type": "code",
   "execution_count": 32,
   "metadata": {},
   "outputs": [],
   "source": [
    "def build_web_page_loader(url:str)->List[Document]:\n",
    "    loader = WebBaseLoader(\n",
    "        web_paths=(url,),\n",
    "        bs_kwargs=dict(\n",
    "            parse_only=bs4.SoupStrainer(\n",
    "            )\n",
    "        ))\n",
    "    docs = loader.load()\n",
    "    return docs"
   ]
  },
  {
   "cell_type": "code",
   "execution_count": 47,
   "metadata": {},
   "outputs": [],
   "source": [
    "def build_documents_retriever(docs:List[Document],\n",
    "                              embeddings:Embeddings,\n",
    "                              chunk_size:int=1600,\n",
    "                              chunk_overlap:int=300):\n",
    "    text_splitter = RecursiveCharacterTextSplitter(chunk_size=chunk_size, chunk_overlap=chunk_overlap)\n",
    "    splits = text_splitter.split_documents(docs)\n",
    "\n",
    "    vectorstore = Chroma.from_documents(documents=splits, embedding=embeddings)\n",
    "    retriever = vectorstore.as_retriever()\n",
    "    return retriever"
   ]
  },
  {
   "cell_type": "code",
   "execution_count": 48,
   "metadata": {},
   "outputs": [],
   "source": [
    "docs = build_scientific_papers_loader(papers_folder)\n",
    "#docs = build_web_page_loader(url_filter_cheat_sheet)\n",
    "retriever = build_documents_retriever(docs, embeddings=OpenAIEmbeddings())"
   ]
  },
  {
   "cell_type": "code",
   "execution_count": 49,
   "metadata": {},
   "outputs": [],
   "source": [
    "prompt = ChatPromptTemplate.from_messages([(\"system\", template['input']), (\"human\", \"{input}\")])\n"
   ]
  },
  {
   "cell_type": "code",
   "execution_count": 50,
   "metadata": {},
   "outputs": [
    {
     "data": {
      "text/plain": [
       "VectorStoreRetriever(tags=['Chroma', 'OpenAIEmbeddings'], vectorstore=<langchain.vectorstores.chroma.Chroma object at 0x7f4ff61aaa10>)"
      ]
     },
     "execution_count": 50,
     "metadata": {},
     "output_type": "execute_result"
    }
   ],
   "source": [
    "retriever"
   ]
  },
  {
   "cell_type": "code",
   "execution_count": 51,
   "metadata": {},
   "outputs": [
    {
     "data": {
      "text/plain": [
       "[Document(page_content='The XSS vulnerability discovery methods are mainly to find the injection points through data flow analysis or stain tracking, and then construct an attack script to verify whether the vulnerability really exists.With further research, many XSS attack detection methods based on machine learning and deep learning have been proposed by researchers.', metadata={'bboxes': \"[[{'page': '3', 'x': '49.56', 'y': '68.40', 'h': '239.33', 'w': '7.66'}, {'page': '3', 'x': '37.61', 'y': '78.86', 'h': '251.29', 'w': '7.66'}, {'page': '3', 'x': '37.61', 'y': '89.32', 'h': '251.30', 'w': '7.66'}, {'page': '3', 'x': '37.61', 'y': '99.78', 'h': '59.63', 'w': '7.66'}], [{'page': '3', 'x': '100.58', 'y': '99.78', 'h': '188.30', 'w': '7.66'}, {'page': '3', 'x': '37.61', 'y': '110.24', 'h': '251.29', 'w': '7.66'}, {'page': '3', 'x': '37.61', 'y': '120.70', 'h': '95.59', 'w': '7.66'}], [{'page': '3', 'x': '137.48', 'y': '120.70', 'h': '151.38', 'w': '7.66'}, {'page': '3', 'x': '37.61', 'y': '131.16', 'h': '251.29', 'w': '7.66'}, {'page': '3', 'x': '37.61', 'y': '141.62', 'h': '37.24', 'w': '7.66'}]]\", 'file_path': '../data/papers/04 - xss.pdf', 'pages': \"('3', '3')\", 'paper_title': 'XSS adversarial example attacks based on deep reinforcement learning', 'para': '1', 'section_number': '2.2.2.', 'section_title': 'XSS attack detection', 'text': 'The XSS vulnerability discovery methods are mainly to find the injection points through data flow analysis or stain tracking, and then construct an attack script to verify whether the vulnerability really exists.With further research, many XSS attack detection methods based on machine learning and deep learning have been proposed by researchers.'}),\n",
       " Document(page_content='The XSS vulnerability discovery methods are mainly to find the injection points through data flow analysis or stain tracking, and then construct an attack script to verify whether the vulnerability really exists.With further research, many XSS attack detection methods based on machine learning and deep learning have been proposed by researchers.', metadata={'bboxes': \"[[{'page': '3', 'x': '49.56', 'y': '68.40', 'h': '239.33', 'w': '7.66'}, {'page': '3', 'x': '37.61', 'y': '78.86', 'h': '251.29', 'w': '7.66'}, {'page': '3', 'x': '37.61', 'y': '89.32', 'h': '251.30', 'w': '7.66'}, {'page': '3', 'x': '37.61', 'y': '99.78', 'h': '59.63', 'w': '7.66'}], [{'page': '3', 'x': '100.58', 'y': '99.78', 'h': '188.30', 'w': '7.66'}, {'page': '3', 'x': '37.61', 'y': '110.24', 'h': '251.29', 'w': '7.66'}, {'page': '3', 'x': '37.61', 'y': '120.70', 'h': '95.59', 'w': '7.66'}], [{'page': '3', 'x': '137.48', 'y': '120.70', 'h': '151.38', 'w': '7.66'}, {'page': '3', 'x': '37.61', 'y': '131.16', 'h': '251.29', 'w': '7.66'}, {'page': '3', 'x': '37.61', 'y': '141.62', 'h': '37.24', 'w': '7.66'}]]\", 'file_path': '../data/papers/04 - xss.pdf', 'pages': \"('3', '3')\", 'paper_title': 'XSS adversarial example attacks based on deep reinforcement learning', 'para': '1', 'section_number': '2.2.2.', 'section_title': 'XSS attack detection', 'text': 'The XSS vulnerability discovery methods are mainly to find the injection points through data flow analysis or stain tracking, and then construct an attack script to verify whether the vulnerability really exists.With further research, many XSS attack detection methods based on machine learning and deep learning have been proposed by researchers.'}),\n",
       " Document(page_content='The XSS vulnerability discovery methods are mainly to find the injection points through data flow analysis or stain tracking, and then construct an attack script to verify whether the vulnerability really exists.With further research, many XSS attack detection methods based on machine learning and deep learning have been proposed by researchers.', metadata={'bboxes': \"[[{'page': '3', 'x': '49.56', 'y': '68.40', 'h': '239.33', 'w': '7.66'}, {'page': '3', 'x': '37.61', 'y': '78.86', 'h': '251.29', 'w': '7.66'}, {'page': '3', 'x': '37.61', 'y': '89.32', 'h': '251.30', 'w': '7.66'}, {'page': '3', 'x': '37.61', 'y': '99.78', 'h': '59.63', 'w': '7.66'}], [{'page': '3', 'x': '100.58', 'y': '99.78', 'h': '188.30', 'w': '7.66'}, {'page': '3', 'x': '37.61', 'y': '110.24', 'h': '251.29', 'w': '7.66'}, {'page': '3', 'x': '37.61', 'y': '120.70', 'h': '95.59', 'w': '7.66'}], [{'page': '3', 'x': '137.48', 'y': '120.70', 'h': '151.38', 'w': '7.66'}, {'page': '3', 'x': '37.61', 'y': '131.16', 'h': '251.29', 'w': '7.66'}, {'page': '3', 'x': '37.61', 'y': '141.62', 'h': '37.24', 'w': '7.66'}]]\", 'file_path': '../data/papers/04 - xss.pdf', 'pages': \"('3', '3')\", 'paper_title': 'XSS adversarial example attacks based on deep reinforcement learning', 'para': '1', 'section_number': '2.2.2.', 'section_title': 'XSS attack detection', 'text': 'The XSS vulnerability discovery methods are mainly to find the injection points through data flow analysis or stain tracking, and then construct an attack script to verify whether the vulnerability really exists.With further research, many XSS attack detection methods based on machine learning and deep learning have been proposed by researchers.'}),\n",
       " Document(page_content='The XSS vulnerability discovery methods are mainly to find the injection points through data flow analysis or stain tracking, and then construct an attack script to verify whether the vulnerability really exists.With further research, many XSS attack detection methods based on machine learning and deep learning have been proposed by researchers.It typically represents the examples as eigenvectors and models these vectors to judge whether they are malicious.', metadata={'bboxes': \"[[{'page': '3', 'x': '49.56', 'y': '68.40', 'h': '239.33', 'w': '7.66'}, {'page': '3', 'x': '37.61', 'y': '78.86', 'h': '251.29', 'w': '7.66'}, {'page': '3', 'x': '37.61', 'y': '89.32', 'h': '251.30', 'w': '7.66'}, {'page': '3', 'x': '37.61', 'y': '99.78', 'h': '59.63', 'w': '7.66'}], [{'page': '3', 'x': '100.58', 'y': '99.78', 'h': '188.30', 'w': '7.66'}, {'page': '3', 'x': '37.61', 'y': '110.24', 'h': '251.29', 'w': '7.66'}, {'page': '3', 'x': '37.61', 'y': '120.70', 'h': '95.59', 'w': '7.66'}], [{'page': '3', 'x': '137.48', 'y': '120.70', 'h': '151.38', 'w': '7.66'}, {'page': '3', 'x': '37.61', 'y': '131.16', 'h': '251.29', 'w': '7.66'}, {'page': '3', 'x': '37.61', 'y': '141.62', 'h': '37.24', 'w': '7.66'}]]\", 'file_path': '../data/papers/04 - xss.pdf', 'pages': \"('3', '3')\", 'paper_title': 'XSS adversarial example attacks based on deep reinforcement learning', 'para': '2', 'section_number': '2.2.2.', 'section_title': 'XSS attack detection', 'text': 'The XSS vulnerability discovery methods are mainly to find the injection points through data flow analysis or stain tracking, and then construct an attack script to verify whether the vulnerability really exists.With further research, many XSS attack detection methods based on machine learning and deep learning have been proposed by researchers.It typically represents the examples as eigenvectors and models these vectors to judge whether they are malicious.'})]"
      ]
     },
     "execution_count": 51,
     "metadata": {},
     "output_type": "execute_result"
    }
   ],
   "source": [
    "comment = \"Check if in the given http_get_request there is an XSS exploit, considering also the possible modifications that an attacker can perform.\"\n",
    "retriever.get_relevant_documents( prompt_parameters[\"input\"], k=22)"
   ]
  },
  {
   "cell_type": "code",
   "execution_count": 38,
   "metadata": {},
   "outputs": [],
   "source": [
    "chain =  prompt | model | StrOutputParser() | sanitize_output\n"
   ]
  },
  {
   "cell_type": "code",
   "execution_count": 39,
   "metadata": {},
   "outputs": [],
   "source": [
    "prompt_parameters[\"context\"] = retriever | format_docs"
   ]
  },
  {
   "cell_type": "code",
   "execution_count": 40,
   "metadata": {},
   "outputs": [
    {
     "data": {
      "text/plain": [
       "{'input': 'def detect_xss(http_get_request: str)->bool: \\n\"\"\" Check if in the given http_get_request there is an XSS exploit, considering also the possible evasions that an attacker can perform.\"\"\" ',\n",
       " 'context': VectorStoreRetriever(tags=['Chroma', 'OpenAIEmbeddings'], vectorstore=<langchain.vectorstores.chroma.Chroma object at 0x7f4ffa2bbdf0>)\n",
       " | RunnableLambda(...)}"
      ]
     },
     "execution_count": 40,
     "metadata": {},
     "output_type": "execute_result"
    }
   ],
   "source": [
    "prompt_parameters"
   ]
  },
  {
   "cell_type": "code",
   "execution_count": 41,
   "metadata": {},
   "outputs": [
    {
     "name": "stdout",
     "output_type": "stream",
     "text": [
      "System: The user will provide the initial part of the function (function name, parameters with types, return type and a comment describing the purpose of the function, with some optional example. \n",
      "You are a coding assistant that writes some python code to complete the user's function. Be sure that the code is syntactically correct and that it returns the correct type. \n",
      "The lenght of the code should short, readable, and without redundant checks on the paylaod. \n",
      "Return only python code in Markdown format, e.g.:\n",
      "```python\n",
      "....\n",
      "```\n",
      "Use the following pieces of retrieved context to write a more complete function:\n",
      "Context: first=VectorStoreRetriever(tags=['Chroma', 'OpenAIEmbeddings'], vectorstore=<langchain.vectorstores.chroma.Chroma object at 0x7f4ffa2bbdf0>) last=RunnableLambda(...)\n",
      "\n",
      "Human: def detect_xss(http_get_request: str)->bool: \n",
      "\"\"\" Check if in the given http_get_request there is an XSS exploit, considering also the possible evasions that an attacker can perform.\"\"\" \n"
     ]
    }
   ],
   "source": [
    "print(prompt.format(**prompt_parameters))\n"
   ]
  },
  {
   "cell_type": "code",
   "execution_count": 42,
   "metadata": {},
   "outputs": [],
   "source": [
    "response = chain.invoke(prompt_parameters)\n"
   ]
  },
  {
   "cell_type": "code",
   "execution_count": 43,
   "metadata": {},
   "outputs": [
    {
     "data": {
      "text/plain": [
       "'\\nimport re\\n\\ndef detect_xss(http_get_request: str) -> bool:\\n    # Regular expression pattern to match potential XSS payloads\\n    xss_pattern = re.compile(r\"<script.*?>.*?</script>|<.*?on\\\\w+=.*?>\")\\n\\n    # Check if the HTTP GET request contains any potential XSS payload\\n    if re.search(xss_pattern, http_get_request):\\n        return True\\n    else:\\n        return False\\n'"
      ]
     },
     "execution_count": 43,
     "metadata": {},
     "output_type": "execute_result"
    }
   ],
   "source": [
    "response"
   ]
  },
  {
   "cell_type": "code",
   "execution_count": null,
   "metadata": {},
   "outputs": [],
   "source": []
  }
 ],
 "metadata": {
  "kernelspec": {
   "display_name": ".venv",
   "language": "python",
   "name": "python3"
  },
  "language_info": {
   "codemirror_mode": {
    "name": "ipython",
    "version": 3
   },
   "file_extension": ".py",
   "mimetype": "text/x-python",
   "name": "python",
   "nbconvert_exporter": "python",
   "pygments_lexer": "ipython3",
   "version": "3.10.12"
  },
  "orig_nbformat": 4
 },
 "nbformat": 4,
 "nbformat_minor": 2
}
