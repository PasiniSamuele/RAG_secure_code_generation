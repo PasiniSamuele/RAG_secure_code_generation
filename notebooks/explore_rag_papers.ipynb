{
 "cells": [
  {
   "cell_type": "code",
   "execution_count": 1,
   "metadata": {},
   "outputs": [
    {
     "name": "stderr",
     "output_type": "stream",
     "text": [
      "/workspaces/RAG_secure_code_generation/.venv/lib/python3.10/site-packages/tqdm/auto.py:21: TqdmWarning: IProgress not found. Please update jupyter and ipywidgets. See https://ipywidgets.readthedocs.io/en/stable/user_install.html\n",
      "  from .autonotebook import tqdm as notebook_tqdm\n"
     ]
    },
    {
     "ename": "ImportError",
     "evalue": "cannot import name 'Document' from 'langchain.document_loaders' (/workspaces/RAG_secure_code_generation/.venv/lib/python3.10/site-packages/langchain/document_loaders/__init__.py)",
     "output_type": "error",
     "traceback": [
      "\u001b[0;31m---------------------------------------------------------------------------\u001b[0m",
      "\u001b[0;31mImportError\u001b[0m                               Traceback (most recent call last)",
      "\u001b[1;32m/workspaces/RAG_secure_code_generation/notebooks/explore_rag_papers.ipynb Cell 1\u001b[0m line \u001b[0;36m2\n\u001b[1;32m     <a href='vscode-notebook-cell://dev-container%2B7b22686f737450617468223a222f686f6d652f73616d75656c652f7265706f732f5241475f7365637572655f636f64655f67656e65726174696f6e222c226c6f63616c446f636b6572223a66616c73652c22636f6e66696746696c65223a7b22246d6964223a312c2270617468223a222f686f6d652f73616d75656c652f7265706f732f5241475f7365637572655f636f64655f67656e65726174696f6e2f2e646576636f6e7461696e65722f646576636f6e7461696e65722e6a736f6e222c22736368656d65223a227673636f64652d66696c65486f7374227d7d@ssh-remote%2Bserver_tesla/workspaces/RAG_secure_code_generation/notebooks/explore_rag_papers.ipynb#W0sdnNjb2RlLXJlbW90ZQ%3D%3D?line=22'>23</a>\u001b[0m \u001b[39mfrom\u001b[39;00m \u001b[39mlangchain\u001b[39;00m\u001b[39m.\u001b[39;00m\u001b[39mdocument_loaders\u001b[39;00m\u001b[39m.\u001b[39;00m\u001b[39mgeneric\u001b[39;00m \u001b[39mimport\u001b[39;00m GenericLoader\n\u001b[1;32m     <a href='vscode-notebook-cell://dev-container%2B7b22686f737450617468223a222f686f6d652f73616d75656c652f7265706f732f5241475f7365637572655f636f64655f67656e65726174696f6e222c226c6f63616c446f636b6572223a66616c73652c22636f6e66696746696c65223a7b22246d6964223a312c2270617468223a222f686f6d652f73616d75656c652f7265706f732f5241475f7365637572655f636f64655f67656e65726174696f6e2f2e646576636f6e7461696e65722f646576636f6e7461696e65722e6a736f6e222c22736368656d65223a227673636f64652d66696c65486f7374227d7d@ssh-remote%2Bserver_tesla/workspaces/RAG_secure_code_generation/notebooks/explore_rag_papers.ipynb#W0sdnNjb2RlLXJlbW90ZQ%3D%3D?line=23'>24</a>\u001b[0m \u001b[39mfrom\u001b[39;00m \u001b[39mlangchain\u001b[39;00m\u001b[39m.\u001b[39;00m\u001b[39mdocument_loaders\u001b[39;00m\u001b[39m.\u001b[39;00m\u001b[39mparsers\u001b[39;00m \u001b[39mimport\u001b[39;00m GrobidParser\n\u001b[0;32m---> <a href='vscode-notebook-cell://dev-container%2B7b22686f737450617468223a222f686f6d652f73616d75656c652f7265706f732f5241475f7365637572655f636f64655f67656e65726174696f6e222c226c6f63616c446f636b6572223a66616c73652c22636f6e66696746696c65223a7b22246d6964223a312c2270617468223a222f686f6d652f73616d75656c652f7265706f732f5241475f7365637572655f636f64655f67656e65726174696f6e2f2e646576636f6e7461696e65722f646576636f6e7461696e65722e6a736f6e222c22736368656d65223a227673636f64652d66696c65486f7374227d7d@ssh-remote%2Bserver_tesla/workspaces/RAG_secure_code_generation/notebooks/explore_rag_papers.ipynb#W0sdnNjb2RlLXJlbW90ZQ%3D%3D?line=24'>25</a>\u001b[0m \u001b[39mfrom\u001b[39;00m \u001b[39mlangchain\u001b[39;00m\u001b[39m.\u001b[39;00m\u001b[39mdocument_loaders\u001b[39;00m \u001b[39mimport\u001b[39;00m Document\n\u001b[1;32m     <a href='vscode-notebook-cell://dev-container%2B7b22686f737450617468223a222f686f6d652f73616d75656c652f7265706f732f5241475f7365637572655f636f64655f67656e65726174696f6e222c226c6f63616c446f636b6572223a66616c73652c22636f6e66696746696c65223a7b22246d6964223a312c2270617468223a222f686f6d652f73616d75656c652f7265706f732f5241475f7365637572655f636f64655f67656e65726174696f6e2f2e646576636f6e7461696e65722f646576636f6e7461696e65722e6a736f6e222c22736368656d65223a227673636f64652d66696c65486f7374227d7d@ssh-remote%2Bserver_tesla/workspaces/RAG_secure_code_generation/notebooks/explore_rag_papers.ipynb#W0sdnNjb2RlLXJlbW90ZQ%3D%3D?line=25'>26</a>\u001b[0m \u001b[39mfrom\u001b[39;00m \u001b[39mlangchain_core\u001b[39;00m\u001b[39m.\u001b[39;00m\u001b[39membeddings\u001b[39;00m \u001b[39mimport\u001b[39;00m Embeddings\n",
      "\u001b[0;31mImportError\u001b[0m: cannot import name 'Document' from 'langchain.document_loaders' (/workspaces/RAG_secure_code_generation/.venv/lib/python3.10/site-packages/langchain/document_loaders/__init__.py)"
     ]
    }
   ],
   "source": [
    "import pandas as pd\n",
    "from langchain.llms.huggingface_pipeline import HuggingFacePipeline\n",
    "from transformers import AutoModelForCausalLM, AutoTokenizer, pipeline\n",
    "from dotenv import dotenv_values\n",
    "import sys\n",
    "sys.path.insert(0,'/workspaces/RAG_secure_code_generation/src')\n",
    "from utils.utils import load_yaml, init_argument_parser, sanitize_output, fill_default_parameters\n",
    "from langchain.prompts import (\n",
    "    ChatPromptTemplate, PromptTemplate\n",
    ")\n",
    "from utils.openai_utils import is_openai_model, build_chat_model\n",
    "from langchain.chat_models import ChatOpenAI\n",
    "from langchain_core.output_parsers import StrOutputParser\n",
    "import random\n",
    "import numpy as np\n",
    "from functools import partial\n",
    "from typing import List\n",
    "from langchain.embeddings import OpenAIEmbeddings\n",
    "\n",
    "\n",
    "from langchain.text_splitter import RecursiveCharacterTextSplitter\n",
    "from langchain.vectorstores import Chroma\n",
    "from langchain.document_loaders.generic import GenericLoader\n",
    "from langchain.document_loaders.parsers import GrobidParser\n",
    "from langchain.docstore.document import Document\n",
    "from langchain_core.embeddings import Embeddings\n"
   ]
  },
  {
   "cell_type": "code",
   "execution_count": null,
   "metadata": {},
   "outputs": [],
   "source": [
    "seed = 156\n",
    "np.random.seed(seed)\n",
    "random.seed(seed)"
   ]
  },
  {
   "cell_type": "code",
   "execution_count": null,
   "metadata": {},
   "outputs": [],
   "source": [
    "template_file = \"../data/templates/complete_function_readable.yaml\"\n",
    "rag_template_file = \"../data/rag_templates/basic_rag_suffix.txt\"\n",
    "task_file = \"../data/tasks/detect_xss_simple_prompt.txt\"\n",
    "parameters_file = \"../data/prompt_parameters/empty.yaml\"\n",
    "papers_folder = \"../data/papers\"\n",
    "model_name = \"gpt-3.5-turbo-0613\""
   ]
  },
  {
   "cell_type": "code",
   "execution_count": null,
   "metadata": {},
   "outputs": [],
   "source": [
    "env = dotenv_values()"
   ]
  },
  {
   "cell_type": "code",
   "execution_count": null,
   "metadata": {},
   "outputs": [],
   "source": [
    "template = load_yaml(template_file)\n",
    "    # load parameters\n",
    "prompt_parameters = load_yaml(parameters_file)\n",
    "\n",
    "#read txt containing the task\n",
    "with open(task_file) as f:\n",
    "    prompt_parameters[\"input\"] = f.read()\n",
    "prompt_parameters = fill_default_parameters(prompt_parameters, template[\"default_parameters\"])\n",
    "use_openai_api = is_openai_model(model_name)\n",
    "openai_key = env['OPENAI_API_KEY']\n",
    "model = ChatOpenAI(temperature=1, openai_api_key=openai_key, model=model_name)"
   ]
  },
  {
   "cell_type": "code",
   "execution_count": null,
   "metadata": {},
   "outputs": [],
   "source": [
    "def build_scientific_papers_loader(papers_folder:str)->List[Document]: \n",
    "    loader = GenericLoader.from_filesystem(\n",
    "        papers_folder,\n",
    "        glob=\"*\",\n",
    "        suffixes=[\".pdf\"],\n",
    "        parser=GrobidParser(segment_sentences=False),\n",
    "    )\n",
    "    docs = loader.load()\n",
    "    return docs"
   ]
  },
  {
   "cell_type": "code",
   "execution_count": null,
   "metadata": {},
   "outputs": [],
   "source": [
    "def build_documents_retriever(docs:List[Document],\n",
    "                              embeddings:Embeddings,\n",
    "                              chunk_size:int=1000,\n",
    "                              chunk_overlap:int=200):\n",
    "    text_splitter = RecursiveCharacterTextSplitter(chunk_size=chunk_size, chunk_overlap=chunk_overlap)\n",
    "    splits = text_splitter.split_documents(docs)\n",
    "\n",
    "    vectorstore = Chroma.from_documents(documents=splits, embedding=embeddings)\n",
    "    retriever = vectorstore.as_retriever()\n",
    "    return retriever"
   ]
  },
  {
   "cell_type": "code",
   "execution_count": null,
   "metadata": {},
   "outputs": [],
   "source": [
    "docs = build_scientific_papers_loader(papers_folder)\n",
    "retriever = build_documents_retriever(docs, embeddings=OpenAIEmbeddings())"
   ]
  }
 ],
 "metadata": {
  "kernelspec": {
   "display_name": ".venv",
   "language": "python",
   "name": "python3"
  },
  "language_info": {
   "codemirror_mode": {
    "name": "ipython",
    "version": 3
   },
   "file_extension": ".py",
   "mimetype": "text/x-python",
   "name": "python",
   "nbconvert_exporter": "python",
   "pygments_lexer": "ipython3",
   "version": "3.10.12"
  },
  "orig_nbformat": 4
 },
 "nbformat": 4,
 "nbformat_minor": 2
}
