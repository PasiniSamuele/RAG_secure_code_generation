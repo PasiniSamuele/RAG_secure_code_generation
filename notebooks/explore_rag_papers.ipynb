{
 "cells": [
  {
   "cell_type": "code",
   "execution_count": 1,
   "metadata": {},
   "outputs": [
    {
     "name": "stderr",
     "output_type": "stream",
     "text": [
      "/workspaces/RAG_secure_code_generation/.venv/lib/python3.10/site-packages/tqdm/auto.py:21: TqdmWarning: IProgress not found. Please update jupyter and ipywidgets. See https://ipywidgets.readthedocs.io/en/stable/user_install.html\n",
      "  from .autonotebook import tqdm as notebook_tqdm\n"
     ]
    }
   ],
   "source": [
    "import pandas as pd\n",
    "from langchain.llms.huggingface_pipeline import HuggingFacePipeline\n",
    "from transformers import AutoModelForCausalLM, AutoTokenizer, pipeline\n",
    "from dotenv import dotenv_values\n",
    "import sys\n",
    "sys.path.insert(0,'/workspaces/RAG_secure_code_generation/src')\n",
    "from utils.utils import load_yaml, init_argument_parser, sanitize_output, fill_default_parameters\n",
    "from langchain.prompts import (\n",
    "    ChatPromptTemplate, PromptTemplate\n",
    ")\n",
    "from utils.openai_utils import is_openai_model, build_chat_model\n",
    "from langchain.chat_models import ChatOpenAI\n",
    "from langchain_core.output_parsers import StrOutputParser\n",
    "import random\n",
    "import numpy as np\n",
    "from functools import partial\n",
    "from typing import List\n",
    "from langchain.embeddings import OpenAIEmbeddings\n",
    "\n",
    "\n",
    "from langchain.text_splitter import RecursiveCharacterTextSplitter\n",
    "from langchain.vectorstores import Chroma\n",
    "from langchain.document_loaders.generic import GenericLoader\n",
    "from langchain.document_loaders import WebBaseLoader\n",
    "from utils.custom_grobid_parser import CustomGrobidParser\n",
    "from langchain.docstore.document import Document\n",
    "from langchain_core.embeddings import Embeddings\n",
    "import bs4\n",
    "from langchain_core.runnables import RunnablePassthrough\n",
    "from utils.rag_utils import build_scientific_papers_loader, build_documents_retriever, format_docs, build_web_page_loader\n"
   ]
  },
  {
   "cell_type": "code",
   "execution_count": 5,
   "metadata": {},
   "outputs": [],
   "source": [
    "def format_docs(docs):\n",
    "    return \"\\n\\n\".join(doc.page_content for doc in docs)"
   ]
  },
  {
   "cell_type": "code",
   "execution_count": 6,
   "metadata": {},
   "outputs": [],
   "source": [
    "seed = 156\n",
    "np.random.seed(seed)\n",
    "random.seed(seed)"
   ]
  },
  {
   "cell_type": "code",
   "execution_count": 5,
   "metadata": {},
   "outputs": [],
   "source": [
    "template_file = \"../data/templates/complete_function_readable.yaml\"\n",
    "rag_template_file = \"../data/rag_templates/basic_rag_suffix.txt\"\n",
    "task_file = \"../data/tasks/detect_xss_simple_prompt.txt\"\n",
    "parameters_file = \"../data/prompt_parameters/empty.yaml\"\n",
    "papers_folder = \"../data/papers/\"\n",
    "model_name = \"gpt-3.5-turbo-0613\"\n",
    "db_persist_path = \"../data/db/chroma\"\n",
    "db_persist_path_web_test = \"../data/db/chroma_web_test\""
   ]
  },
  {
   "cell_type": "code",
   "execution_count": 6,
   "metadata": {},
   "outputs": [],
   "source": [
    "env = dotenv_values()"
   ]
  },
  {
   "cell_type": "code",
   "execution_count": 7,
   "metadata": {},
   "outputs": [],
   "source": [
    "template = load_yaml(template_file)\n",
    "    # load parameters\n",
    "prompt_parameters = load_yaml(parameters_file)\n",
    "\n",
    "#read txt containing the task\n",
    "with open(task_file) as f:\n",
    "    prompt_parameters[\"input\"] = f.read()\n",
    "prompt_parameters = fill_default_parameters(prompt_parameters, template[\"default_parameters\"])\n",
    "with open(rag_template_file) as f:\n",
    "    template['input'] += \"\\n\" + f.read()\n",
    "\n",
    "use_openai_api = is_openai_model(model_name)\n",
    "openai_key = env['OPENAI_API_KEY']\n",
    "model = ChatOpenAI(temperature=0, openai_api_key=openai_key, model=model_name)"
   ]
  },
  {
   "cell_type": "code",
   "execution_count": 9,
   "metadata": {},
   "outputs": [
    {
     "name": "stderr",
     "output_type": "stream",
     "text": [
      "/workspaces/RAG_secure_code_generation/.venv/lib/python3.10/site-packages/chromadb/utils/embedding_functions.py:584: SyntaxWarning: \"is\" with a literal. Did you mean \"==\"?\n",
      "  if self._task_type is \"RETRIEVAL_DOCUMENT\":\n"
     ]
    }
   ],
   "source": [
    "docs =  build_scientific_papers_loader(papers_folder)\n",
    "retriever = build_documents_retriever(docs, db_persist_path=db_persist_path_web_test)\n"
   ]
  },
  {
   "cell_type": "code",
   "execution_count": 10,
   "metadata": {},
   "outputs": [
    {
     "data": {
      "text/plain": [
       "Document(page_content='This study seeks to explore the effectiveness of XSS detection models.For this purpose, we provide an XSS adversarial attack model based on the Soft Actor-Critic algorithm.In order to improve the escape rate, we design corresponding mutation strategies for different modules of the XSS attack vectors, and then train a reinforcement learning agent to select strategies, so as to make the detector output wrong results.The experiment results showed that our method can achieve an escape rate of over 92%.This also shows that the detection models based on deep learning can effectively detect XSS attacks, but it cannot resist adversarial attacks.Therefore, the key to ensuring the security of machine learning and deep learning in various applications is to further study the adversarial attack technology and put forward more useful defense methods.', metadata={'text': 'This study seeks to explore the effectiveness of XSS detection models.For this purpose, we provide an XSS adversarial attack model based on the Soft Actor-Critic algorithm.In order to improve the escape rate, we design corresponding mutation strategies for different modules of the XSS attack vectors, and then train a reinforcement learning agent to select strategies, so as to make the detector output wrong results.The experiment results showed that our method can achieve an escape rate of over 92%.This also shows that the detection models based on deep learning can effectively detect XSS attacks, but it cannot resist adversarial attacks.Therefore, the key to ensuring the security of machine learning and deep learning in various applications is to further study the adversarial attack technology and put forward more useful defense methods.', 'para': '5', 'bboxes': \"[[{'page': '12', 'x': '49.56', 'y': '336.39', 'h': '239.33', 'w': '7.66'}, {'page': '12', 'x': '37.61', 'y': '346.85', 'h': '28.66', 'w': '7.66'}], [{'page': '12', 'x': '70.84', 'y': '346.85', 'h': '218.05', 'w': '7.66'}, {'page': '12', 'x': '37.61', 'y': '357.32', 'h': '186.33', 'w': '7.66'}], [{'page': '12', 'x': '228.27', 'y': '357.32', 'h': '60.65', 'w': '7.66'}, {'page': '12', 'x': '37.61', 'y': '367.77', 'h': '251.26', 'w': '7.66'}, {'page': '12', 'x': '37.61', 'y': '378.23', 'h': '251.34', 'w': '7.66'}, {'page': '12', 'x': '37.61', 'y': '388.70', 'h': '251.31', 'w': '7.66'}, {'page': '12', 'x': '37.61', 'y': '399.16', 'h': '129.82', 'w': '7.66'}], [{'page': '12', 'x': '170.54', 'y': '399.16', 'h': '118.33', 'w': '7.66'}, {'page': '12', 'x': '37.61', 'y': '409.62', 'h': '215.25', 'w': '7.66'}], [{'page': '12', 'x': '256.00', 'y': '409.62', 'h': '32.96', 'w': '7.66'}, {'page': '12', 'x': '37.61', 'y': '420.08', 'h': '251.31', 'w': '7.66'}, {'page': '12', 'x': '37.61', 'y': '430.54', 'h': '251.29', 'w': '7.66'}], [{'page': '12', 'x': '37.61', 'y': '441.00', 'h': '251.32', 'w': '7.66'}, {'page': '12', 'x': '37.61', 'y': '451.46', 'h': '251.31', 'w': '7.66'}, {'page': '12', 'x': '37.61', 'y': '461.92', 'h': '251.27', 'w': '7.66'}, {'page': '12', 'x': '37.61', 'y': '472.38', 'h': '34.00', 'w': '7.66'}]]\", 'pages': \"('12', '12')\", 'section_title': 'Conclusion', 'section_number': '6.', 'paper_title': 'XSS adversarial example attacks based on deep reinforcement learning', 'file_path': '../data/papers/04 - xss.pdf'})"
      ]
     },
     "execution_count": 10,
     "metadata": {},
     "output_type": "execute_result"
    }
   ],
   "source": [
    "docs[-2]"
   ]
  },
  {
   "cell_type": "code",
   "execution_count": 14,
   "metadata": {},
   "outputs": [],
   "source": [
    "#url_filter_cheat_sheet = \"https://cheatsheetseries.owasp.org/cheatsheets/XSS_Filter_Evasion_Cheat_Sheet.html\"\n",
    "url_testing = \"https://owasp.org/www-project-web-security-testing-guide/latest/4-Web_Application_Security_Testing/07-Input_Validation_Testing/01-Testing_for_Reflected_Cross_Site_Scripting\""
   ]
  },
  {
   "cell_type": "code",
   "execution_count": 2,
   "metadata": {},
   "outputs": [
    {
     "ename": "NameError",
     "evalue": "name 'url_testing' is not defined",
     "output_type": "error",
     "traceback": [
      "\u001b[0;31m---------------------------------------------------------------------------\u001b[0m",
      "\u001b[0;31mNameError\u001b[0m                                 Traceback (most recent call last)",
      "Cell \u001b[0;32mIn[2], line 1\u001b[0m\n\u001b[0;32m----> 1\u001b[0m docs_online \u001b[38;5;241m=\u001b[39m build_web_page_loader(\u001b[43murl_testing\u001b[49m)\n\u001b[1;32m      2\u001b[0m \u001b[38;5;66;03m##retriever_web = build_documents_retriever(docs_online, db_persist_path=db_persist_path_web_test)\u001b[39;00m\n",
      "\u001b[0;31mNameError\u001b[0m: name 'url_testing' is not defined"
     ]
    }
   ],
   "source": [
    "#docs_online = build_web_page_loader(url_testing)\n",
    "##retriever_web = build_documents_retriever(docs_online, db_persist_path=db_persist_path_web_test)\n"
   ]
  },
  {
   "cell_type": "code",
   "execution_count": 11,
   "metadata": {},
   "outputs": [],
   "source": [
    "prompt = ChatPromptTemplate.from_messages([(\"system\", template['input']), (\"human\", \"{input}\")])\n"
   ]
  },
  {
   "cell_type": "code",
   "execution_count": 17,
   "metadata": {},
   "outputs": [
    {
     "data": {
      "text/plain": [
       "'def detect_xss(http_get_request: str)->bool: \\n\"\"\" Check if in the given http_get_request there is an XSS exploit, considering also the possible evasions that an attacker can perform.\"\"\" '"
      ]
     },
     "execution_count": 17,
     "metadata": {},
     "output_type": "execute_result"
    }
   ],
   "source": [
    "prompt_parameters[\"input\"]"
   ]
  },
  {
   "cell_type": "code",
   "execution_count": 12,
   "metadata": {},
   "outputs": [],
   "source": [
    "comment = \"what are the actions that a malicious attack can perform to avoid XSS detection.\"\n",
    "ex = \"Add ”&#x09” to ”javascript\"\n",
    "rets = retriever.get_relevant_documents(template[\"input\"], k=22)"
   ]
  },
  {
   "cell_type": "code",
   "execution_count": 13,
   "metadata": {},
   "outputs": [
    {
     "data": {
      "text/plain": [
       "[Document(page_content='The existing research has the problems of low escape rate and coding misuse.To overcome these shortcomings, we propose mutation rules for different modules of the XSS attack vector.Then, an intelligent agent is trained to generate adversarial examples according to these mutation rules to improve the escape rate.', metadata={'bboxes': \"[[{'page': '3', 'x': '318.55', 'y': '442.56', 'h': '239.37', 'w': '7.66'}, {'page': '3', 'x': '306.60', 'y': '453.02', 'h': '55.75', 'w': '7.66'}], [{'page': '3', 'x': '365.75', 'y': '453.02', 'h': '192.10', 'w': '7.66'}, {'page': '3', 'x': '306.60', 'y': '463.48', 'h': '227.35', 'w': '7.66'}], [{'page': '3', 'x': '537.74', 'y': '463.48', 'h': '20.17', 'w': '7.66'}, {'page': '3', 'x': '306.60', 'y': '473.95', 'h': '251.28', 'w': '7.66'}, {'page': '3', 'x': '306.60', 'y': '484.41', 'h': '224.86', 'w': '7.66'}]]\", 'file_path': '../data/papers/04 - xss.pdf', 'pages': \"('3', '3')\", 'paper_title': 'XSS adversarial example attacks based on deep reinforcement learning', 'para': '2', 'section_number': '2.3.', 'section_title': 'Adversarial attack technique', 'text': 'The existing research has the problems of low escape rate and coding misuse.To overcome these shortcomings, we propose mutation rules for different modules of the XSS attack vector.Then, an intelligent agent is trained to generate adversarial examples according to these mutation rules to improve the escape rate.'}),\n",
       " Document(page_content='The existing research has the problems of low escape rate and coding misuse.To overcome these shortcomings, we propose mutation rules for different modules of the XSS attack vector.', metadata={'bboxes': \"[[{'page': '3', 'x': '318.55', 'y': '442.56', 'h': '239.37', 'w': '7.66'}, {'page': '3', 'x': '306.60', 'y': '453.02', 'h': '55.75', 'w': '7.66'}], [{'page': '3', 'x': '365.75', 'y': '453.02', 'h': '192.10', 'w': '7.66'}, {'page': '3', 'x': '306.60', 'y': '463.48', 'h': '227.35', 'w': '7.66'}], [{'page': '3', 'x': '537.74', 'y': '463.48', 'h': '20.17', 'w': '7.66'}, {'page': '3', 'x': '306.60', 'y': '473.95', 'h': '251.28', 'w': '7.66'}, {'page': '3', 'x': '306.60', 'y': '484.41', 'h': '224.86', 'w': '7.66'}]]\", 'file_path': '../data/papers/04 - xss.pdf', 'pages': \"('3', '3')\", 'paper_title': 'XSS adversarial example attacks based on deep reinforcement learning', 'para': '1', 'section_number': '2.3.', 'section_title': 'Adversarial attack technique', 'text': 'The existing research has the problems of low escape rate and coding misuse.To overcome these shortcomings, we propose mutation rules for different modules of the XSS attack vector.'}),\n",
       " Document(page_content=\"In this work, we focus on generating adversarial examples that can bypass XSS detection models.In the real scene, we usually can't know the details of the detection model.That is, we can only take black-box attack.If we have a strong knowledge base, this task may be completed.However, this is not a wise way but belongs to violent cracking.The number and type of the obtained adversarial examples completely depend on this knowledge base.In fact, human methods can be simulated by an intelligent reinforcement learning agent learning from experience, rather than people having to list all the possibilities and create all the solutions.Therefore, we chose to train a reinforcement learning agent to solve this problem.\", metadata={'bboxes': \"[[{'page': '3', 'x': '318.55', 'y': '550.09', 'h': '239.34', 'w': '7.66'}, {'page': '3', 'x': '306.60', 'y': '560.55', 'h': '132.09', 'w': '7.66'}], [{'page': '3', 'x': '443.09', 'y': '560.55', 'h': '114.81', 'w': '7.66'}, {'page': '3', 'x': '306.60', 'y': '571.01', 'h': '173.16', 'w': '7.66'}], [{'page': '3', 'x': '482.63', 'y': '571.01', 'h': '75.34', 'w': '7.66'}, {'page': '3', 'x': '306.60', 'y': '581.47', 'h': '80.41', 'w': '7.66'}], [{'page': '3', 'x': '389.56', 'y': '581.47', 'h': '168.37', 'w': '7.66'}, {'page': '3', 'x': '306.60', 'y': '591.94', 'h': '71.27', 'w': '7.66'}], [{'page': '3', 'x': '380.82', 'y': '591.94', 'h': '177.14', 'w': '7.66'}, {'page': '3', 'x': '306.60', 'y': '602.40', 'h': '62.08', 'w': '7.66'}], [{'page': '3', 'x': '372.52', 'y': '602.40', 'h': '185.38', 'w': '7.66'}, {'page': '3', 'x': '306.60', 'y': '612.85', 'h': '220.79', 'w': '7.66'}], [{'page': '3', 'x': '531.30', 'y': '612.85', 'h': '26.59', 'w': '7.66'}, {'page': '3', 'x': '306.60', 'y': '623.32', 'h': '251.28', 'w': '7.66'}, {'page': '3', 'x': '306.60', 'y': '633.78', 'h': '251.27', 'w': '7.66'}, {'page': '3', 'x': '306.60', 'y': '644.24', 'h': '223.59', 'w': '7.66'}], [{'page': '3', 'x': '533.84', 'y': '644.24', 'h': '24.10', 'w': '7.66'}, {'page': '3', 'x': '306.60', 'y': '654.69', 'h': '251.34', 'w': '7.66'}, {'page': '3', 'x': '306.60', 'y': '665.16', 'h': '32.90', 'w': '7.66'}], [{'page': '3', 'x': '342.20', 'y': '665.16', 'h': '215.74', 'w': '7.66'}, {'page': '3', 'x': '306.60', 'y': '675.62', 'h': '183.87', 'w': '7.66'}]]\", 'file_path': '../data/papers/04 - xss.pdf', 'pages': \"('3', '3')\", 'paper_title': 'XSS adversarial example attacks based on deep reinforcement learning', 'para': '7', 'section_number': '3.1.', 'section_title': 'Problem definition', 'text': \"In this work, we focus on generating adversarial examples that can bypass XSS detection models.In the real scene, we usually can't know the details of the detection model.That is, we can only take black-box attack.If we have a strong knowledge base, this task may be completed.However, this is not a wise way but belongs to violent cracking.The number and type of the obtained adversarial examples completely depend on this knowledge base.In fact, human methods can be simulated by an intelligent reinforcement learning agent learning from experience, rather than people having to list all the possibilities and create all the solutions.Therefore, we chose to train a reinforcement learning agent to solve this problem.\"}),\n",
       " Document(page_content='(1) Effective escape strategies: A series of mutation rules are designed according to various modules of XSS attack The rest of the paper is organized as follows.The second section gives a brief overview of the background and related work.Section 3 introduces the content of deep reinforcement learning involved in this paper.Section 4 is concerned with the methodology used for this study.Section 5 presents some interesting evaluation results related to the assessment of the availability of our framework.Finally, the summary and prospect are discussed in Section 6 .', metadata={'bboxes': \"[[{'page': '2', 'x': '35.57', 'y': '304.29', 'h': '253.32', 'w': '7.66'}, {'page': '2', 'x': '50.05', 'y': '314.75', 'h': '191.70', 'w': '7.66'}, {'page': '2', 'x': '49.56', 'y': '404.20', 'h': '174.67', 'w': '7.66'}], [{'page': '2', 'x': '227.80', 'y': '404.20', 'h': '61.14', 'w': '7.66'}, {'page': '2', 'x': '37.61', 'y': '414.66', 'h': '251.31', 'w': '7.66'}], [{'page': '2', 'x': '37.61', 'y': '425.11', 'h': '251.28', 'w': '7.66'}, {'page': '2', 'x': '37.61', 'y': '435.57', 'h': '84.72', 'w': '7.66'}], [{'page': '2', 'x': '125.61', 'y': '435.57', 'h': '163.32', 'w': '7.66'}, {'page': '2', 'x': '37.61', 'y': '446.04', 'h': '90.43', 'w': '7.66'}], [{'page': '2', 'x': '131.51', 'y': '446.04', 'h': '157.42', 'w': '7.66'}, {'page': '2', 'x': '37.61', 'y': '456.50', 'h': '251.31', 'w': '7.66'}, {'page': '2', 'x': '37.61', 'y': '466.95', 'h': '42.20', 'w': '7.66'}], [{'page': '2', 'x': '84.39', 'y': '466.95', 'h': '204.47', 'w': '7.66'}, {'page': '2', 'x': '37.61', 'y': '477.42', 'h': '36.44', 'w': '7.66'}]]\", 'file_path': '../data/papers/04 - xss.pdf', 'pages': \"('2', '2')\", 'paper_title': 'XSS adversarial example attacks based on deep reinforcement learning', 'para': '5', 'section_number': '1.', 'section_title': 'Introduction', 'text': '(1) Effective escape strategies: A series of mutation rules are designed according to various modules of XSS attack The rest of the paper is organized as follows.The second section gives a brief overview of the background and related work.Section 3 introduces the content of deep reinforcement learning involved in this paper.Section 4 is concerned with the methodology used for this study.Section 5 presents some interesting evaluation results related to the assessment of the availability of our framework.Finally, the summary and prospect are discussed in Section 6 .'})]"
      ]
     },
     "execution_count": 13,
     "metadata": {},
     "output_type": "execute_result"
    }
   ],
   "source": [
    "rets"
   ]
  },
  {
   "cell_type": "code",
   "execution_count": 25,
   "metadata": {},
   "outputs": [
    {
     "ename": "NameError",
     "evalue": "name 'prompt' is not defined",
     "output_type": "error",
     "traceback": [
      "\u001b[0;31m---------------------------------------------------------------------------\u001b[0m",
      "\u001b[0;31mNameError\u001b[0m                                 Traceback (most recent call last)",
      "Cell \u001b[0;32mIn[25], line 1\u001b[0m\n\u001b[0;32m----> 1\u001b[0m chain \u001b[38;5;241m=\u001b[39m  \u001b[43mprompt\u001b[49m \u001b[38;5;241m|\u001b[39m model \u001b[38;5;241m|\u001b[39m StrOutputParser() \u001b[38;5;241m|\u001b[39m sanitize_output\n",
      "\u001b[0;31mNameError\u001b[0m: name 'prompt' is not defined"
     ]
    }
   ],
   "source": [
    "chain =  prompt | model | StrOutputParser() | sanitize_output\n"
   ]
  },
  {
   "cell_type": "code",
   "execution_count": 39,
   "metadata": {},
   "outputs": [],
   "source": [
    "prompt_parameters[\"context\"] = retriever | format_docs"
   ]
  },
  {
   "cell_type": "code",
   "execution_count": 40,
   "metadata": {},
   "outputs": [
    {
     "data": {
      "text/plain": [
       "{'input': 'def detect_xss(http_get_request: str)->bool: \\n\"\"\" Check if in the given http_get_request there is an XSS exploit, considering also the possible evasions that an attacker can perform.\"\"\" ',\n",
       " 'context': VectorStoreRetriever(tags=['Chroma', 'OpenAIEmbeddings'], vectorstore=<langchain.vectorstores.chroma.Chroma object at 0x7f4ffa2bbdf0>)\n",
       " | RunnableLambda(...)}"
      ]
     },
     "execution_count": 40,
     "metadata": {},
     "output_type": "execute_result"
    }
   ],
   "source": [
    "prompt_parameters"
   ]
  },
  {
   "cell_type": "code",
   "execution_count": 41,
   "metadata": {},
   "outputs": [
    {
     "name": "stdout",
     "output_type": "stream",
     "text": [
      "System: The user will provide the initial part of the function (function name, parameters with types, return type and a comment describing the purpose of the function, with some optional example. \n",
      "You are a coding assistant that writes some python code to complete the user's function. Be sure that the code is syntactically correct and that it returns the correct type. \n",
      "The lenght of the code should short, readable, and without redundant checks on the paylaod. \n",
      "Return only python code in Markdown format, e.g.:\n",
      "```python\n",
      "....\n",
      "```\n",
      "Use the following pieces of retrieved context to write a more complete function:\n",
      "Context: first=VectorStoreRetriever(tags=['Chroma', 'OpenAIEmbeddings'], vectorstore=<langchain.vectorstores.chroma.Chroma object at 0x7f4ffa2bbdf0>) last=RunnableLambda(...)\n",
      "\n",
      "Human: def detect_xss(http_get_request: str)->bool: \n",
      "\"\"\" Check if in the given http_get_request there is an XSS exploit, considering also the possible evasions that an attacker can perform.\"\"\" \n"
     ]
    }
   ],
   "source": [
    "print(prompt.format(**prompt_parameters))\n"
   ]
  },
  {
   "cell_type": "code",
   "execution_count": 42,
   "metadata": {},
   "outputs": [],
   "source": [
    "response = chain.invoke(prompt_parameters)\n"
   ]
  },
  {
   "cell_type": "code",
   "execution_count": 43,
   "metadata": {},
   "outputs": [
    {
     "data": {
      "text/plain": [
       "'\\nimport re\\n\\ndef detect_xss(http_get_request: str) -> bool:\\n    # Regular expression pattern to match potential XSS payloads\\n    xss_pattern = re.compile(r\"<script.*?>.*?</script>|<.*?on\\\\w+=.*?>\")\\n\\n    # Check if the HTTP GET request contains any potential XSS payload\\n    if re.search(xss_pattern, http_get_request):\\n        return True\\n    else:\\n        return False\\n'"
      ]
     },
     "execution_count": 43,
     "metadata": {},
     "output_type": "execute_result"
    }
   ],
   "source": [
    "response"
   ]
  },
  {
   "cell_type": "code",
   "execution_count": null,
   "metadata": {},
   "outputs": [],
   "source": []
  }
 ],
 "metadata": {
  "kernelspec": {
   "display_name": ".venv",
   "language": "python",
   "name": "python3"
  },
  "language_info": {
   "codemirror_mode": {
    "name": "ipython",
    "version": 3
   },
   "file_extension": ".py",
   "mimetype": "text/x-python",
   "name": "python",
   "nbconvert_exporter": "python",
   "pygments_lexer": "ipython3",
   "version": "3.10.12"
  },
  "orig_nbformat": 4
 },
 "nbformat": 4,
 "nbformat_minor": 2
}
